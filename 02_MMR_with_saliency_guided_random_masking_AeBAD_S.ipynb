{
 "cells": [
  {
   "cell_type": "markdown",
   "id": "d51f91f6-e80f-4b2a-a72e-064b2373f90a",
   "metadata": {},
   "source": [
    "This jupyter notebook contains the steps to install the required depedencies and run the MMR model in a linux machine."
   ]
  },
  {
   "cell_type": "code",
   "execution_count": null,
   "id": "35dd4912-e56e-483b-9db4-f2a1eda52f33",
   "metadata": {},
   "outputs": [],
   "source": [
    "# Uninstalling opencv-python and opencv-contrib-python to allow the installation of the dependencies as per the requirements file\n",
    "!pip uninstall opencv-python opencv-contrib-python -y"
   ]
  },
  {
   "cell_type": "code",
   "execution_count": null,
   "id": "e58431fb-5c87-4c8a-bc6d-55f13382a6d9",
   "metadata": {},
   "outputs": [],
   "source": [
    "# Installing the required dependencies as per the requirements file\n",
    "!pip install -r /notebooks/MMR/requirements.txt"
   ]
  },
  {
   "cell_type": "code",
   "execution_count": null,
   "id": "8bf88916-ea1f-449b-8e1a-de7888859540",
   "metadata": {},
   "outputs": [],
   "source": [
    "# Setup the AeBAD_S_run.sh as an executable\n",
    "!chmod +x /notebooks/MMR/AeBAD_S_run.sh"
   ]
  },
  {
   "cell_type": "code",
   "execution_count": null,
   "id": "d851896d-5d1d-476e-b84d-d74421fb2ada",
   "metadata": {},
   "outputs": [],
   "source": [
    "### Running the MMR program\n",
    "! /notebooks/MMR/AeBAD_S_run.sh"
   ]
  }
 ],
 "metadata": {
  "kernelspec": {
   "display_name": "Python 3 (ipykernel)",
   "language": "python",
   "name": "python3"
  },
  "language_info": {
   "codemirror_mode": {
    "name": "ipython",
    "version": 3
   },
   "file_extension": ".py",
   "mimetype": "text/x-python",
   "name": "python",
   "nbconvert_exporter": "python",
   "pygments_lexer": "ipython3",
   "version": "3.9.16"
  }
 },
 "nbformat": 4,
 "nbformat_minor": 5
}
