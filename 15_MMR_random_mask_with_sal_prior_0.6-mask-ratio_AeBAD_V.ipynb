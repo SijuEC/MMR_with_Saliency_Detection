{
 "cells": [
  {
   "cell_type": "code",
   "execution_count": 1,
   "id": "35dd4912-e56e-483b-9db4-f2a1eda52f33",
   "metadata": {},
   "outputs": [
    {
     "name": "stdout",
     "output_type": "stream",
     "text": [
      "Found existing installation: opencv-python 4.6.0.66\n",
      "Uninstalling opencv-python-4.6.0.66:\n",
      "  Successfully uninstalled opencv-python-4.6.0.66\n",
      "\u001b[33mWARNING: Skipping opencv-contrib-python as it is not installed.\u001b[0m\u001b[33m\n",
      "\u001b[0m\u001b[33mWARNING: Running pip as the 'root' user can result in broken permissions and conflicting behaviour with the system package manager. It is recommended to use a virtual environment instead: https://pip.pypa.io/warnings/venv\u001b[0m\u001b[33m\n",
      "\u001b[0m"
     ]
    }
   ],
   "source": [
    "!pip uninstall opencv-python opencv-contrib-python -y"
   ]
  },
  {
   "cell_type": "code",
   "execution_count": 2,
   "id": "e58431fb-5c87-4c8a-bc6d-55f13382a6d9",
   "metadata": {},
   "outputs": [
    {
     "name": "stdout",
     "output_type": "stream",
     "text": [
      "Collecting fvcore\n",
      "  Downloading fvcore-0.1.5.post20221221.tar.gz (50 kB)\n",
      "\u001b[2K     \u001b[90m━━━━━━━━━━━━━━━━━━━━━━━━━━━━━━━━━━━━━━━━\u001b[0m \u001b[32m50.2/50.2 kB\u001b[0m \u001b[31m11.6 MB/s\u001b[0m eta \u001b[36m0:00:00\u001b[0m\n",
      "\u001b[?25h  Preparing metadata (setup.py) ... \u001b[?25ldone\n",
      "\u001b[?25hRequirement already satisfied: matplotlib in /usr/local/lib/python3.9/dist-packages (from -r /notebooks/MMR/requirements.txt (line 2)) (3.6.1)\n",
      "Requirement already satisfied: numpy in /usr/local/lib/python3.9/dist-packages (from -r /notebooks/MMR/requirements.txt (line 3)) (1.23.4)\n",
      "Collecting opencv-contrib-python\n",
      "  Downloading opencv_contrib_python-4.9.0.80-cp37-abi3-manylinux_2_17_x86_64.manylinux2014_x86_64.whl (68.3 MB)\n",
      "\u001b[2K     \u001b[90m━━━━━━━━━━━━━━━━━━━━━━━━━━━━━━━━━━━━━━━━\u001b[0m \u001b[32m68.3/68.3 MB\u001b[0m \u001b[31m27.2 MB/s\u001b[0m eta \u001b[36m0:00:00\u001b[0m00:01\u001b[0m00:01\u001b[0m\n",
      "\u001b[?25hRequirement already satisfied: pandas in /usr/local/lib/python3.9/dist-packages (from -r /notebooks/MMR/requirements.txt (line 5)) (1.5.0)\n",
      "Requirement already satisfied: scikit-learn in /usr/local/lib/python3.9/dist-packages (from -r /notebooks/MMR/requirements.txt (line 6)) (1.1.2)\n",
      "Requirement already satisfied: scipy in /usr/local/lib/python3.9/dist-packages (from -r /notebooks/MMR/requirements.txt (line 7)) (1.9.2)\n",
      "Requirement already satisfied: seaborn in /usr/local/lib/python3.9/dist-packages (from -r /notebooks/MMR/requirements.txt (line 8)) (0.12.0)\n",
      "Collecting timm\n",
      "  Downloading timm-0.9.16-py3-none-any.whl (2.2 MB)\n",
      "\u001b[2K     \u001b[90m━━━━━━━━━━━━━━━━━━━━━━━━━━━━━━━━━━━━━━━━\u001b[0m \u001b[32m2.2/2.2 MB\u001b[0m \u001b[31m98.5 MB/s\u001b[0m eta \u001b[36m0:00:00\u001b[0m\n",
      "\u001b[?25hRequirement already satisfied: torch in /usr/local/lib/python3.9/dist-packages (from -r /notebooks/MMR/requirements.txt (line 10)) (1.12.1+cu116)\n",
      "Requirement already satisfied: torchvision in /usr/local/lib/python3.9/dist-packages (from -r /notebooks/MMR/requirements.txt (line 11)) (0.13.1+cu116)\n",
      "Collecting yacs>=0.1.6\n",
      "  Downloading yacs-0.1.8-py3-none-any.whl (14 kB)\n",
      "Requirement already satisfied: pyyaml>=5.1 in /usr/local/lib/python3.9/dist-packages (from fvcore->-r /notebooks/MMR/requirements.txt (line 1)) (5.4.1)\n",
      "Requirement already satisfied: tqdm in /usr/local/lib/python3.9/dist-packages (from fvcore->-r /notebooks/MMR/requirements.txt (line 1)) (4.64.1)\n",
      "Requirement already satisfied: termcolor>=1.1 in /usr/local/lib/python3.9/dist-packages (from fvcore->-r /notebooks/MMR/requirements.txt (line 1)) (2.2.0)\n",
      "Requirement already satisfied: Pillow in /usr/local/lib/python3.9/dist-packages (from fvcore->-r /notebooks/MMR/requirements.txt (line 1)) (9.2.0)\n",
      "Requirement already satisfied: tabulate in /usr/local/lib/python3.9/dist-packages (from fvcore->-r /notebooks/MMR/requirements.txt (line 1)) (0.9.0)\n",
      "Collecting iopath>=0.1.7\n",
      "  Downloading iopath-0.1.10.tar.gz (42 kB)\n",
      "\u001b[2K     \u001b[90m━━━━━━━━━━━━━━━━━━━━━━━━━━━━━━━━━━━━━━━━\u001b[0m \u001b[32m42.2/42.2 kB\u001b[0m \u001b[31m12.0 MB/s\u001b[0m eta \u001b[36m0:00:00\u001b[0m\n",
      "\u001b[?25h  Preparing metadata (setup.py) ... \u001b[?25ldone\n",
      "\u001b[?25hRequirement already satisfied: python-dateutil>=2.7 in /usr/local/lib/python3.9/dist-packages (from matplotlib->-r /notebooks/MMR/requirements.txt (line 2)) (2.8.2)\n",
      "Requirement already satisfied: kiwisolver>=1.0.1 in /usr/local/lib/python3.9/dist-packages (from matplotlib->-r /notebooks/MMR/requirements.txt (line 2)) (1.4.4)\n",
      "Requirement already satisfied: packaging>=20.0 in /usr/local/lib/python3.9/dist-packages (from matplotlib->-r /notebooks/MMR/requirements.txt (line 2)) (23.0)\n",
      "Requirement already satisfied: contourpy>=1.0.1 in /usr/local/lib/python3.9/dist-packages (from matplotlib->-r /notebooks/MMR/requirements.txt (line 2)) (1.0.7)\n",
      "Requirement already satisfied: pyparsing>=2.2.1 in /usr/local/lib/python3.9/dist-packages (from matplotlib->-r /notebooks/MMR/requirements.txt (line 2)) (3.0.9)\n",
      "Requirement already satisfied: cycler>=0.10 in /usr/local/lib/python3.9/dist-packages (from matplotlib->-r /notebooks/MMR/requirements.txt (line 2)) (0.11.0)\n",
      "Requirement already satisfied: fonttools>=4.22.0 in /usr/local/lib/python3.9/dist-packages (from matplotlib->-r /notebooks/MMR/requirements.txt (line 2)) (4.38.0)\n",
      "Requirement already satisfied: pytz>=2020.1 in /usr/local/lib/python3.9/dist-packages (from pandas->-r /notebooks/MMR/requirements.txt (line 5)) (2022.7.1)\n",
      "Requirement already satisfied: threadpoolctl>=2.0.0 in /usr/local/lib/python3.9/dist-packages (from scikit-learn->-r /notebooks/MMR/requirements.txt (line 6)) (3.1.0)\n",
      "Requirement already satisfied: joblib>=1.0.0 in /usr/local/lib/python3.9/dist-packages (from scikit-learn->-r /notebooks/MMR/requirements.txt (line 6)) (1.2.0)\n",
      "Collecting safetensors\n",
      "  Downloading safetensors-0.4.2-cp39-cp39-manylinux_2_17_x86_64.manylinux2014_x86_64.whl (1.3 MB)\n",
      "\u001b[2K     \u001b[90m━━━━━━━━━━━━━━━━━━━━━━━━━━━━━━━━━━━━━━━━\u001b[0m \u001b[32m1.3/1.3 MB\u001b[0m \u001b[31m91.1 MB/s\u001b[0m eta \u001b[36m0:00:00\u001b[0m\n",
      "\u001b[?25hRequirement already satisfied: huggingface_hub in /usr/local/lib/python3.9/dist-packages (from timm->-r /notebooks/MMR/requirements.txt (line 9)) (0.12.0)\n",
      "Requirement already satisfied: typing-extensions in /usr/local/lib/python3.9/dist-packages (from torch->-r /notebooks/MMR/requirements.txt (line 10)) (4.4.0)\n",
      "Requirement already satisfied: requests in /usr/local/lib/python3.9/dist-packages (from torchvision->-r /notebooks/MMR/requirements.txt (line 11)) (2.28.2)\n",
      "Collecting portalocker\n",
      "  Downloading portalocker-2.8.2-py3-none-any.whl (17 kB)\n",
      "Requirement already satisfied: six>=1.5 in /usr/lib/python3/dist-packages (from python-dateutil>=2.7->matplotlib->-r /notebooks/MMR/requirements.txt (line 2)) (1.14.0)\n",
      "Requirement already satisfied: filelock in /usr/local/lib/python3.9/dist-packages (from huggingface_hub->timm->-r /notebooks/MMR/requirements.txt (line 9)) (3.9.0)\n",
      "Requirement already satisfied: idna<4,>=2.5 in /usr/lib/python3/dist-packages (from requests->torchvision->-r /notebooks/MMR/requirements.txt (line 11)) (2.8)\n",
      "Requirement already satisfied: certifi>=2017.4.17 in /usr/lib/python3/dist-packages (from requests->torchvision->-r /notebooks/MMR/requirements.txt (line 11)) (2019.11.28)\n",
      "Requirement already satisfied: urllib3<1.27,>=1.21.1 in /usr/local/lib/python3.9/dist-packages (from requests->torchvision->-r /notebooks/MMR/requirements.txt (line 11)) (1.26.14)\n",
      "Requirement already satisfied: charset-normalizer<4,>=2 in /usr/local/lib/python3.9/dist-packages (from requests->torchvision->-r /notebooks/MMR/requirements.txt (line 11)) (2.1.1)\n",
      "Building wheels for collected packages: fvcore, iopath\n",
      "  Building wheel for fvcore (setup.py) ... \u001b[?25ldone\n",
      "\u001b[?25h  Created wheel for fvcore: filename=fvcore-0.1.5.post20221221-py3-none-any.whl size=61406 sha256=42b9a2a3ef365e0bd19dea94b3fc9be1f5747fa4e4f9f2d62a6895001717ddb7\n",
      "  Stored in directory: /root/.cache/pip/wheels/51/0c/22/61b6d299cd3d20d3a6a71e82477d504c03b81058d96776f4b7\n",
      "  Building wheel for iopath (setup.py) ... \u001b[?25ldone\n",
      "\u001b[?25h  Created wheel for iopath: filename=iopath-0.1.10-py3-none-any.whl size=31532 sha256=206806f7e77c9514397ab413d1bad82f71d5fb976bc27fa5805c116e23ffa0fd\n",
      "  Stored in directory: /root/.cache/pip/wheels/2f/ce/ac/07529e6caba9b9c9c78a3cdae0a21c52ed14b37f98599eab74\n",
      "Successfully built fvcore iopath\n",
      "Installing collected packages: yacs, safetensors, portalocker, opencv-contrib-python, iopath, timm, fvcore\n",
      "Successfully installed fvcore-0.1.5.post20221221 iopath-0.1.10 opencv-contrib-python-4.9.0.80 portalocker-2.8.2 safetensors-0.4.2 timm-0.9.16 yacs-0.1.8\n",
      "\u001b[33mWARNING: Running pip as the 'root' user can result in broken permissions and conflicting behaviour with the system package manager. It is recommended to use a virtual environment instead: https://pip.pypa.io/warnings/venv\u001b[0m\u001b[33m\n",
      "\u001b[0m"
     ]
    }
   ],
   "source": [
    "!pip install -r /notebooks/MMR/requirements.txt"
   ]
  },
  {
   "cell_type": "code",
   "execution_count": 3,
   "id": "8bf88916-ea1f-449b-8e1a-de7888859540",
   "metadata": {},
   "outputs": [],
   "source": [
    "!chmod +x /notebooks/MMR/AeBAD_V_run.sh"
   ]
  },
  {
   "cell_type": "code",
   "execution_count": null,
   "id": "d851896d-5d1d-476e-b84d-d74421fb2ada",
   "metadata": {},
   "outputs": [
    {
     "name": "stdout",
     "output_type": "stream",
     "text": [
      "[02/22 15:50:10][INFO] main.py:   26: {'DATASET': {'domain_shift_category': 'same',\n",
      "             'imagesize': 224,\n",
      "             'name': 'aebad_V',\n",
      "             'resize': 256,\n",
      "             'subdatasets': ['AeBAD_V']},\n",
      " 'NUM_GPUS': 1,\n",
      " 'OUTPUT_DIR': './log_MMR_AeBAD_V_54',\n",
      " 'RNG_SEED': 54,\n",
      " 'TEST': {'VISUALIZE': CfgNode({'Random_sample': True, 'Sample_num': 40}),\n",
      "          'dataset_path': '/notebooks/AeBAD',\n",
      "          'enable': False,\n",
      "          'method': 'MMR',\n",
      "          'pixel_mode_verify': False,\n",
      "          'save_segmentation_images': False,\n",
      "          'save_video_segmentation_images': True},\n",
      " 'TEST_SETUPS': CfgNode({'batch_size': 32}),\n",
      " 'TRAIN': {'MMR': {'DA_low_limit': 0.7,\n",
      "                   'DA_up_limit': 1.0,\n",
      "                   'FPN_output_dim': (256, 512, 1024),\n",
      "                   'feature_compression': False,\n",
      "                   'finetune_mask_ratio': 0.6,\n",
      "                   'layers_to_extract_from': ['layer1', 'layer2', 'layer3'],\n",
      "                   'load_pretrain_model': True,\n",
      "                   'model_chkpt': '/notebooks/MMR/mae_visualize_vit_base.pth',\n",
      "                   'scale_factors': (4.0, 2.0, 1.0),\n",
      "                   'test_mask_ratio': 0.0},\n",
      "           'backbone': 'wideresnet50',\n",
      "           'dataset_path': '/notebooks/AeBAD',\n",
      "           'enable': True,\n",
      "           'method': 'MMR',\n",
      "           'save_model': False},\n",
      " 'TRAIN_SETUPS': {'batch_size': 16,\n",
      "                  'epochs': 185,\n",
      "                  'learning_rate': 0.001,\n",
      "                  'num_workers': 8,\n",
      "                  'warmup_epochs': 50,\n",
      "                  'weight_decay': 0.05}}\n",
      "[02/22 15:50:10][INFO] main.py:   27: path_to_config is /notebooks/MMR/method_config/AeBAD_V/MMR.yaml\n",
      "[02/22 15:50:10][INFO] main.py:   31: start training!\n",
      "[02/22 15:50:10][INFO] train.py:   27: load dataset!\n",
      "[02/22 15:50:10][INFO] train.py:   55: current individual_dataloader is aebad_V_AeBAD_V.\n",
      "[02/22 15:50:10][INFO] train.py:   56: the data in current individual_dataloader aebad_V_AeBAD_V are 707.\n",
      "/usr/local/lib/python3.9/dist-packages/torchvision/models/_utils.py:208: UserWarning: The parameter 'pretrained' is deprecated since 0.13 and will be removed in 0.15, please use 'weights' instead.\n",
      "  warnings.warn(\n",
      "/usr/local/lib/python3.9/dist-packages/torchvision/models/_utils.py:223: UserWarning: Arguments other than a weight enum or `None` for 'weights' are deprecated since 0.13 and will be removed in 0.15. The current behavior is equivalent to passing `weights=Wide_ResNet50_2_Weights.IMAGENET1K_V1`. You can also use `weights=Wide_ResNet50_2_Weights.DEFAULT` to get the most up-to-date weights.\n",
      "  warnings.warn(msg)\n",
      "Downloading: \"https://download.pytorch.org/models/wide_resnet50_2-95faca4d.pth\" to /root/.cache/torch/hub/checkpoints/wide_resnet50_2-95faca4d.pth\n",
      "100%|█████████████████████████████████████████| 132M/132M [00:01<00:00, 134MB/s]\n",
      "[02/22 15:50:19][INFO] train.py:   73: train the decoder FPN of MMR from scratch!\n",
      "[02/22 15:50:19][INFO] train.py:   76: MAE load meg: _IncompatibleKeys(missing_keys=['decoder_FPN_mask_token', 'decoder_FPN_pos_embed', 'simfp_2.0.weight', 'simfp_2.0.bias', 'simfp_2.1.weight', 'simfp_2.1.bias', 'simfp_2.3.weight', 'simfp_2.3.bias', 'simfp_2.4.weight', 'simfp_2.4.norm.weight', 'simfp_2.4.norm.bias', 'simfp_2.5.weight', 'simfp_2.5.norm.weight', 'simfp_2.5.norm.bias', 'simfp_3.0.weight', 'simfp_3.0.bias', 'simfp_3.1.weight', 'simfp_3.1.norm.weight', 'simfp_3.1.norm.bias', 'simfp_3.2.weight', 'simfp_3.2.norm.weight', 'simfp_3.2.norm.bias', 'simfp_4.0.weight', 'simfp_4.0.norm.weight', 'simfp_4.0.norm.bias', 'simfp_4.1.weight', 'simfp_4.1.norm.weight', 'simfp_4.1.norm.bias'], unexpected_keys=[])\n",
      "[02/22 15:51:11][INFO] MMR_pipeline.py:   73: epoch [1/185], loss:3.0098\n",
      "[02/22 15:52:00][INFO] MMR_pipeline.py:   73: epoch [2/185], loss:2.0282\n",
      "[02/22 15:52:48][INFO] MMR_pipeline.py:   73: epoch [3/185], loss:1.6022\n",
      "[02/22 15:53:36][INFO] MMR_pipeline.py:   73: epoch [4/185], loss:1.5099\n",
      "[02/22 15:54:24][INFO] MMR_pipeline.py:   73: epoch [5/185], loss:1.4095\n",
      "[02/22 15:55:13][INFO] MMR_pipeline.py:   73: epoch [6/185], loss:1.3286\n",
      "[02/22 15:56:02][INFO] MMR_pipeline.py:   73: epoch [7/185], loss:1.2625\n",
      "[02/22 15:56:50][INFO] MMR_pipeline.py:   73: epoch [8/185], loss:1.2095\n",
      "[02/22 15:57:39][INFO] MMR_pipeline.py:   73: epoch [9/185], loss:1.1625\n",
      "[02/22 15:58:27][INFO] MMR_pipeline.py:   73: epoch [10/185], loss:1.1176\n",
      "[02/22 15:59:16][INFO] MMR_pipeline.py:   73: epoch [11/185], loss:1.0760\n",
      "[02/22 16:00:04][INFO] MMR_pipeline.py:   73: epoch [12/185], loss:1.0351\n",
      "[02/22 16:00:53][INFO] MMR_pipeline.py:   73: epoch [13/185], loss:0.9959\n",
      "[02/22 16:01:41][INFO] MMR_pipeline.py:   73: epoch [14/185], loss:0.9555\n",
      "[02/22 16:02:30][INFO] MMR_pipeline.py:   73: epoch [15/185], loss:0.9191\n",
      "[02/22 16:03:19][INFO] MMR_pipeline.py:   73: epoch [16/185], loss:0.8804\n",
      "[02/22 16:04:07][INFO] MMR_pipeline.py:   73: epoch [17/185], loss:0.8427\n",
      "[02/22 16:04:55][INFO] MMR_pipeline.py:   73: epoch [18/185], loss:0.8068\n",
      "[02/22 16:05:44][INFO] MMR_pipeline.py:   73: epoch [19/185], loss:0.7699\n",
      "[02/22 16:06:33][INFO] MMR_pipeline.py:   73: epoch [20/185], loss:0.7327\n",
      "[02/22 16:07:21][INFO] MMR_pipeline.py:   73: epoch [21/185], loss:0.6971\n",
      "[02/22 16:08:10][INFO] MMR_pipeline.py:   73: epoch [22/185], loss:0.6623\n",
      "[02/22 16:08:59][INFO] MMR_pipeline.py:   73: epoch [23/185], loss:0.6283\n",
      "[02/22 16:09:47][INFO] MMR_pipeline.py:   73: epoch [24/185], loss:0.5962\n"
     ]
    }
   ],
   "source": [
    "### Running the MMR program\n",
    "! /notebooks/MMR/AeBAD_V_run.sh"
   ]
  },
  {
   "cell_type": "code",
   "execution_count": null,
   "id": "51503623-28c6-412b-af4c-25151c51f8c1",
   "metadata": {},
   "outputs": [],
   "source": [
    "### Running the MMR program\n",
    "! /notebooks/MMR/AeBAD_V_run.sh"
   ]
  },
  {
   "cell_type": "code",
   "execution_count": null,
   "id": "6e3cde20-a1f4-4243-bfb8-b125c666aa4b",
   "metadata": {},
   "outputs": [],
   "source": []
  }
 ],
 "metadata": {
  "kernelspec": {
   "display_name": "Python 3 (ipykernel)",
   "language": "python",
   "name": "python3"
  },
  "language_info": {
   "codemirror_mode": {
    "name": "ipython",
    "version": 3
   },
   "file_extension": ".py",
   "mimetype": "text/x-python",
   "name": "python",
   "nbconvert_exporter": "python",
   "pygments_lexer": "ipython3",
   "version": "3.9.16"
  }
 },
 "nbformat": 4,
 "nbformat_minor": 5
}
