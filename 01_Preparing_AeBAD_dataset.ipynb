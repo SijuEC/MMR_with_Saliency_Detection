{
 "cells": [
  {
   "cell_type": "code",
   "execution_count": 1,
   "id": "7dc1d788-6c18-4657-9229-ff8659819a93",
   "metadata": {},
   "outputs": [],
   "source": [
    "### the AeBAD dataset is in in .zip format, therefore this needs to be unzipped\n",
    "import zipfile\n",
    "import os\n",
    "\n",
    "zipfile_path = '/notebooks/AeBAD.zip'\n",
    "\n",
    "with zipfile.ZipFile(zipfile_path, 'r') as zip_ref:\n",
    "    zip_ref.extractall()"
   ]
  },
  {
   "cell_type": "code",
   "execution_count": 2,
   "id": "487ae6ee-d20c-4c61-aa5c-1b856ed2cddb",
   "metadata": {},
   "outputs": [],
   "source": [
    "### removing the __MACOSX folder since it has the photos for MACOS format\n",
    "!rm -r __MACOSX"
   ]
  },
  {
   "cell_type": "code",
   "execution_count": null,
   "id": "86e5e9a0-1962-4ed5-895b-e424d42e392d",
   "metadata": {},
   "outputs": [],
   "source": []
  }
 ],
 "metadata": {
  "kernelspec": {
   "display_name": "Python 3 (ipykernel)",
   "language": "python",
   "name": "python3"
  },
  "language_info": {
   "codemirror_mode": {
    "name": "ipython",
    "version": 3
   },
   "file_extension": ".py",
   "mimetype": "text/x-python",
   "name": "python",
   "nbconvert_exporter": "python",
   "pygments_lexer": "ipython3",
   "version": "3.9.16"
  }
 },
 "nbformat": 4,
 "nbformat_minor": 5
}
