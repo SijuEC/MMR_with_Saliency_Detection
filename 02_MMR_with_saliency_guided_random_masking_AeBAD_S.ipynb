{
 "cells": [
  {
   "cell_type": "markdown",
   "id": "d51f91f6-e80f-4b2a-a72e-064b2373f90a",
   "metadata": {},
   "source": [
    "This jupyter notebook contains the steps to install the required depedencies and run the MMR model in a linux machine."
   ]
  },
  {
   "cell_type": "code",
   "execution_count": 1,
   "id": "35dd4912-e56e-483b-9db4-f2a1eda52f33",
   "metadata": {},
   "outputs": [
    {
     "name": "stdout",
     "output_type": "stream",
     "text": [
      "\u001b[33mWARNING: Skipping opencv-python as it is not installed.\u001b[0m\u001b[33m\n",
      "\u001b[0mFound existing installation: opencv-contrib-python 4.9.0.80\n",
      "Uninstalling opencv-contrib-python-4.9.0.80:\n",
      "  Successfully uninstalled opencv-contrib-python-4.9.0.80\n",
      "\u001b[33mWARNING: Running pip as the 'root' user can result in broken permissions and conflicting behaviour with the system package manager. It is recommended to use a virtual environment instead: https://pip.pypa.io/warnings/venv\u001b[0m\u001b[33m\n",
      "\u001b[0m"
     ]
    }
   ],
   "source": [
    "# Uninstalling opencv-python and opencv-contrib-python to allow the installation of the dependencies as per the requirements file\n",
    "!pip uninstall opencv-python opencv-contrib-python -y"
   ]
  },
  {
   "cell_type": "code",
   "execution_count": 2,
   "id": "e58431fb-5c87-4c8a-bc6d-55f13382a6d9",
   "metadata": {},
   "outputs": [
    {
     "name": "stdout",
     "output_type": "stream",
     "text": [
      "Requirement already satisfied: fvcore==0.1.5.post20221221 in /usr/local/lib/python3.9/dist-packages (from -r /notebooks/MMR/requirements.txt (line 1)) (0.1.5.post20221221)\n",
      "Requirement already satisfied: matplotlib==3.6.1 in /usr/local/lib/python3.9/dist-packages (from -r /notebooks/MMR/requirements.txt (line 2)) (3.6.1)\n",
      "Requirement already satisfied: numpy==1.23.4 in /usr/local/lib/python3.9/dist-packages (from -r /notebooks/MMR/requirements.txt (line 3)) (1.23.4)\n",
      "Collecting opencv-contrib-python==4.9.0.80\n",
      "  Using cached opencv_contrib_python-4.9.0.80-cp37-abi3-manylinux_2_17_x86_64.manylinux2014_x86_64.whl (68.3 MB)\n",
      "Requirement already satisfied: pandas==1.5.0 in /usr/local/lib/python3.9/dist-packages (from -r /notebooks/MMR/requirements.txt (line 5)) (1.5.0)\n",
      "Requirement already satisfied: scikit-learn==1.1.2 in /usr/local/lib/python3.9/dist-packages (from -r /notebooks/MMR/requirements.txt (line 6)) (1.1.2)\n",
      "Requirement already satisfied: scipy==1.9.2 in /usr/local/lib/python3.9/dist-packages (from -r /notebooks/MMR/requirements.txt (line 7)) (1.9.2)\n",
      "Requirement already satisfied: seaborn==0.12.0 in /usr/local/lib/python3.9/dist-packages (from -r /notebooks/MMR/requirements.txt (line 8)) (0.12.0)\n",
      "Requirement already satisfied: timm==0.9.16 in /usr/local/lib/python3.9/dist-packages (from -r /notebooks/MMR/requirements.txt (line 9)) (0.9.16)\n",
      "Requirement already satisfied: torch==1.12.1+cu116 in /usr/local/lib/python3.9/dist-packages (from -r /notebooks/MMR/requirements.txt (line 10)) (1.12.1+cu116)\n",
      "Requirement already satisfied: torchvision==0.13.1+cu116 in /usr/local/lib/python3.9/dist-packages (from -r /notebooks/MMR/requirements.txt (line 11)) (0.13.1+cu116)\n",
      "Requirement already satisfied: tqdm in /usr/local/lib/python3.9/dist-packages (from fvcore==0.1.5.post20221221->-r /notebooks/MMR/requirements.txt (line 1)) (4.64.1)\n",
      "Requirement already satisfied: pyyaml>=5.1 in /usr/local/lib/python3.9/dist-packages (from fvcore==0.1.5.post20221221->-r /notebooks/MMR/requirements.txt (line 1)) (5.4.1)\n",
      "Requirement already satisfied: iopath>=0.1.7 in /usr/local/lib/python3.9/dist-packages (from fvcore==0.1.5.post20221221->-r /notebooks/MMR/requirements.txt (line 1)) (0.1.10)\n",
      "Requirement already satisfied: Pillow in /usr/local/lib/python3.9/dist-packages (from fvcore==0.1.5.post20221221->-r /notebooks/MMR/requirements.txt (line 1)) (9.2.0)\n",
      "Requirement already satisfied: termcolor>=1.1 in /usr/local/lib/python3.9/dist-packages (from fvcore==0.1.5.post20221221->-r /notebooks/MMR/requirements.txt (line 1)) (2.2.0)\n",
      "Requirement already satisfied: tabulate in /usr/local/lib/python3.9/dist-packages (from fvcore==0.1.5.post20221221->-r /notebooks/MMR/requirements.txt (line 1)) (0.9.0)\n",
      "Requirement already satisfied: yacs>=0.1.6 in /usr/local/lib/python3.9/dist-packages (from fvcore==0.1.5.post20221221->-r /notebooks/MMR/requirements.txt (line 1)) (0.1.8)\n",
      "Requirement already satisfied: cycler>=0.10 in /usr/local/lib/python3.9/dist-packages (from matplotlib==3.6.1->-r /notebooks/MMR/requirements.txt (line 2)) (0.11.0)\n",
      "Requirement already satisfied: fonttools>=4.22.0 in /usr/local/lib/python3.9/dist-packages (from matplotlib==3.6.1->-r /notebooks/MMR/requirements.txt (line 2)) (4.38.0)\n",
      "Requirement already satisfied: kiwisolver>=1.0.1 in /usr/local/lib/python3.9/dist-packages (from matplotlib==3.6.1->-r /notebooks/MMR/requirements.txt (line 2)) (1.4.4)\n",
      "Requirement already satisfied: packaging>=20.0 in /usr/local/lib/python3.9/dist-packages (from matplotlib==3.6.1->-r /notebooks/MMR/requirements.txt (line 2)) (23.0)\n",
      "Requirement already satisfied: pyparsing>=2.2.1 in /usr/local/lib/python3.9/dist-packages (from matplotlib==3.6.1->-r /notebooks/MMR/requirements.txt (line 2)) (3.0.9)\n",
      "Requirement already satisfied: python-dateutil>=2.7 in /usr/local/lib/python3.9/dist-packages (from matplotlib==3.6.1->-r /notebooks/MMR/requirements.txt (line 2)) (2.8.2)\n",
      "Requirement already satisfied: contourpy>=1.0.1 in /usr/local/lib/python3.9/dist-packages (from matplotlib==3.6.1->-r /notebooks/MMR/requirements.txt (line 2)) (1.0.7)\n",
      "Requirement already satisfied: pytz>=2020.1 in /usr/local/lib/python3.9/dist-packages (from pandas==1.5.0->-r /notebooks/MMR/requirements.txt (line 5)) (2022.7.1)\n",
      "Requirement already satisfied: threadpoolctl>=2.0.0 in /usr/local/lib/python3.9/dist-packages (from scikit-learn==1.1.2->-r /notebooks/MMR/requirements.txt (line 6)) (3.1.0)\n",
      "Requirement already satisfied: joblib>=1.0.0 in /usr/local/lib/python3.9/dist-packages (from scikit-learn==1.1.2->-r /notebooks/MMR/requirements.txt (line 6)) (1.2.0)\n",
      "Requirement already satisfied: huggingface_hub in /usr/local/lib/python3.9/dist-packages (from timm==0.9.16->-r /notebooks/MMR/requirements.txt (line 9)) (0.12.0)\n",
      "Requirement already satisfied: safetensors in /usr/local/lib/python3.9/dist-packages (from timm==0.9.16->-r /notebooks/MMR/requirements.txt (line 9)) (0.4.2)\n",
      "Requirement already satisfied: typing-extensions in /usr/local/lib/python3.9/dist-packages (from torch==1.12.1+cu116->-r /notebooks/MMR/requirements.txt (line 10)) (4.4.0)\n",
      "Requirement already satisfied: requests in /usr/local/lib/python3.9/dist-packages (from torchvision==0.13.1+cu116->-r /notebooks/MMR/requirements.txt (line 11)) (2.28.2)\n",
      "Requirement already satisfied: portalocker in /usr/local/lib/python3.9/dist-packages (from iopath>=0.1.7->fvcore==0.1.5.post20221221->-r /notebooks/MMR/requirements.txt (line 1)) (2.8.2)\n",
      "Requirement already satisfied: six>=1.5 in /usr/lib/python3/dist-packages (from python-dateutil>=2.7->matplotlib==3.6.1->-r /notebooks/MMR/requirements.txt (line 2)) (1.14.0)\n",
      "Requirement already satisfied: filelock in /usr/local/lib/python3.9/dist-packages (from huggingface_hub->timm==0.9.16->-r /notebooks/MMR/requirements.txt (line 9)) (3.9.0)\n",
      "Requirement already satisfied: urllib3<1.27,>=1.21.1 in /usr/local/lib/python3.9/dist-packages (from requests->torchvision==0.13.1+cu116->-r /notebooks/MMR/requirements.txt (line 11)) (1.26.14)\n",
      "Requirement already satisfied: idna<4,>=2.5 in /usr/lib/python3/dist-packages (from requests->torchvision==0.13.1+cu116->-r /notebooks/MMR/requirements.txt (line 11)) (2.8)\n",
      "Requirement already satisfied: charset-normalizer<4,>=2 in /usr/local/lib/python3.9/dist-packages (from requests->torchvision==0.13.1+cu116->-r /notebooks/MMR/requirements.txt (line 11)) (2.1.1)\n",
      "Requirement already satisfied: certifi>=2017.4.17 in /usr/lib/python3/dist-packages (from requests->torchvision==0.13.1+cu116->-r /notebooks/MMR/requirements.txt (line 11)) (2019.11.28)\n",
      "Installing collected packages: opencv-contrib-python\n",
      "Successfully installed opencv-contrib-python-4.9.0.80\n",
      "\u001b[33mWARNING: Running pip as the 'root' user can result in broken permissions and conflicting behaviour with the system package manager. It is recommended to use a virtual environment instead: https://pip.pypa.io/warnings/venv\u001b[0m\u001b[33m\n",
      "\u001b[0m"
     ]
    }
   ],
   "source": [
    "# Installing the required dependencies as per the requirements file\n",
    "!pip install -r /notebooks/MMR/requirements.txt"
   ]
  },
  {
   "cell_type": "code",
   "execution_count": 3,
   "id": "8bf88916-ea1f-449b-8e1a-de7888859540",
   "metadata": {},
   "outputs": [],
   "source": [
    "# Setup the AeBAD_S_run.sh as an executable\n",
    "!chmod +x /notebooks/MMR/AeBAD_S_run.sh"
   ]
  },
  {
   "cell_type": "code",
   "execution_count": 4,
   "id": "d851896d-5d1d-476e-b84d-d74421fb2ada",
   "metadata": {},
   "outputs": [
    {
     "name": "stdout",
     "output_type": "stream",
     "text": [
      "[02/27 20:25:40][INFO] main.py:   26: {'DATASET': {'domain_shift_category': 'same',\n",
      "             'imagesize': 224,\n",
      "             'name': 'aebad_S',\n",
      "             'resize': 256,\n",
      "             'subdatasets': ['AeBAD_S']},\n",
      " 'NUM_GPUS': 1,\n",
      " 'OUTPUT_DIR': './log_MMR_AeBAD_S_54',\n",
      " 'RNG_SEED': 54,\n",
      " 'TEST': {'VISUALIZE': CfgNode({'Random_sample': True, 'Sample_num': 40}),\n",
      "          'dataset_path': '/notebooks/AeBAD',\n",
      "          'enable': False,\n",
      "          'method': 'MMR',\n",
      "          'pixel_mode_verify': True,\n",
      "          'save_segmentation_images': True,\n",
      "          'save_video_segmentation_images': False},\n",
      " 'TEST_SETUPS': CfgNode({'batch_size': 32}),\n",
      " 'TRAIN': {'MMR': {'DA_low_limit': 0.7,\n",
      "                   'DA_up_limit': 1.0,\n",
      "                   'FPN_output_dim': (256, 512, 1024),\n",
      "                   'feature_compression': False,\n",
      "                   'finetune_mask_ratio': 0.6,\n",
      "                   'layers_to_extract_from': ['layer1', 'layer2', 'layer3'],\n",
      "                   'load_pretrain_model': True,\n",
      "                   'model_chkpt': '/notebooks/MMR/mae_visualize_vit_base.pth',\n",
      "                   'scale_factors': (4.0, 2.0, 1.0),\n",
      "                   'test_mask_ratio': 0.0},\n",
      "           'backbone': 'wideresnet50',\n",
      "           'dataset_path': '/notebooks/AeBAD',\n",
      "           'enable': True,\n",
      "           'method': 'MMR',\n",
      "           'save_model': False},\n",
      " 'TRAIN_SETUPS': {'batch_size': 16,\n",
      "                  'epochs': 200,\n",
      "                  'learning_rate': 0.001,\n",
      "                  'num_workers': 8,\n",
      "                  'warmup_epochs': 50,\n",
      "                  'weight_decay': 0.05}}\n",
      "[02/27 20:25:40][INFO] main.py:   27: path_to_config is /notebooks/MMR/method_config/AeBAD_S/MMR.yaml\n",
      "[02/27 20:25:40][INFO] main.py:   31: start training!\n",
      "[02/27 20:25:40][INFO] train.py:   27: load dataset!\n",
      "Traceback (most recent call last):\n",
      "  File \"/notebooks/MMR/main.py\", line 47, in <module>\n",
      "    main()\n",
      "  File \"/notebooks/MMR/main.py\", line 40, in main\n",
      "    train(cfg=cfg)\n",
      "  File \"/notebooks/MMR/tools/train.py\", line 29, in train\n",
      "    train_dataloaders = get_dataloaders(cfg=cfg, mode='train')\n",
      "  File \"/notebooks/MMR/utils/load_dataset.py\", line 32, in get_dataloaders\n",
      "    dataset = dataset_library.__dict__[dataset_info[1]](\n",
      "  File \"/notebooks/MMR/datasets/mvtec.py\", line 56, in __init__\n",
      "    self.imgpaths_per_class, self.data_to_iterate = self.get_image_data()\n",
      "  File \"/notebooks/MMR/datasets/aebad_S.py\", line 23, in get_image_data\n",
      "    anomaly_types = [i for i in os.listdir(classpath)\n",
      "FileNotFoundError: [Errno 2] No such file or directory: '/notebooks/AeBAD/AeBAD_S/train'\n"
     ]
    }
   ],
   "source": [
    "### Running the MMR program\n",
    "! /notebooks/MMR/AeBAD_S_run.sh"
   ]
  },
  {
   "cell_type": "code",
   "execution_count": null,
   "id": "08a08079-88eb-4479-a5e6-7cf63ee491d7",
   "metadata": {},
   "outputs": [],
   "source": []
  }
 ],
 "metadata": {
  "kernelspec": {
   "display_name": "Python 3 (ipykernel)",
   "language": "python",
   "name": "python3"
  },
  "language_info": {
   "codemirror_mode": {
    "name": "ipython",
    "version": 3
   },
   "file_extension": ".py",
   "mimetype": "text/x-python",
   "name": "python",
   "nbconvert_exporter": "python",
   "pygments_lexer": "ipython3",
   "version": "3.9.16"
  }
 },
 "nbformat": 4,
 "nbformat_minor": 5
}
